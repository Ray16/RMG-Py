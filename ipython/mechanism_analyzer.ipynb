{
 "cells": [
  {
   "cell_type": "markdown",
   "metadata": {},
   "source": [
    "# Kinetic Mechanism Pathway Analyzer\n",
    "\n",
    "This analyzer is designed to provide a better user experience and improved analyzing capacity (e.g., large mechanisms) compared with Chemkin mechanism analyzer. This analyzer takes reaction ROP file (e.g. Chemkin ckcsv file), builds a reaction network, helps answer\n",
    "\n",
    "- if the mechanism has certain pathway (from start species to end species)\n",
    "\n",
    "- what is the biggest flux from/towards a certain species\n",
    "\n",
    "When using this script, please pay attention to the sections marked with **[user input]** which require user to specify certain input parameters."
   ]
  },
  {
   "cell_type": "code",
   "execution_count": null,
   "metadata": {
    "collapsed": true
   },
   "outputs": [],
   "source": [
    "from rmgpy.rmg.model import CoreEdgeReactionModel\n",
    "from rmgpy.chemkin import loadChemkinFile\n",
    "import os"
   ]
  },
  {
   "cell_type": "markdown",
   "metadata": {},
   "source": [
    "## [user input] Prepare files\n",
    "\n",
    "Please add \n",
    "\n",
    "- annotated chemkin files (mechanism and species dictionary) and \n",
    "\n",
    "- chemkin simulation ckcsv file \n",
    "\n",
    "to a folder with name stored in `mech` variable in the next cell."
   ]
  },
  {
   "cell_type": "code",
   "execution_count": null,
   "metadata": {
    "collapsed": true
   },
   "outputs": [],
   "source": [
    "mech = 'minimal'"
   ]
  },
  {
   "cell_type": "code",
   "execution_count": null,
   "metadata": {
    "collapsed": false
   },
   "outputs": [],
   "source": [
    "mechPath = os.path.join('./', 'data', 'pathway_analysis', mech)\n",
    "chemkinPath= os.path.join(mechPath, 'chem.inp')\n",
    "dictionaryPath = os.path.join(mechPath, 'species_dictionary.txt')\n",
    "ckcsvPath= mechPath + '/CKSoln.ckcsv'\n",
    "\n",
    "model = CoreEdgeReactionModel()\n",
    "model.core.species, model.core.reactions = loadChemkinFile(chemkinPath,dictionaryPath)"
   ]
  },
  {
   "cell_type": "code",
   "execution_count": null,
   "metadata": {
    "collapsed": false
   },
   "outputs": [],
   "source": [
    "# generate paris for reactions that don't have flux pairs\n",
    "for rxn in model.core.reactions:\n",
    "    if not rxn.pairs: rxn.generatePairs()"
   ]
  },
  {
   "cell_type": "markdown",
   "metadata": {},
   "source": [
    "## Create reaction network"
   ]
  },
  {
   "cell_type": "code",
   "execution_count": null,
   "metadata": {
    "collapsed": false
   },
   "outputs": [],
   "source": [
    "import networkx as nx\n",
    "import matplotlib.pyplot as plt\n",
    "from rmgpy.tools.extractInfoFromckcsv import getConcentrationDictFromCKCSV, getROPFromCKCSV, getFluxGraphEdgesDict\n",
    "from rmgpy.chemkin import getSpeciesIdentifier\n",
    "from IPython.display import display\n",
    "import numpy as np\n",
    "%matplotlib inline"
   ]
  },
  {
   "cell_type": "markdown",
   "metadata": {},
   "source": [
    "### step1: prepare a dict for graph edges"
   ]
  },
  {
   "cell_type": "code",
   "execution_count": null,
   "metadata": {
    "collapsed": false
   },
   "outputs": [],
   "source": [
    "firstColDict, spc_mf_dict = getConcentrationDictFromCKCSV(ckcsvPath)\n",
    "first_col_dict, spc_total_rop_dict, spc_rop_dict = getROPFromCKCSV(ckcsvPath)\n",
    "\n",
    "graph_edges_dict = getFluxGraphEdgesDict(spc_rop_dict, model.core.reactions)\n",
    "\n",
    "graph_edges_dict_simple = {}\n",
    "for pair in graph_edges_dict:\n",
    "    node1 = getSpeciesIdentifier(pair[0])\n",
    "    node2 = getSpeciesIdentifier(pair[1])\n",
    "    graph_edges_dict_simple[(node1, node2)] = graph_edges_dict[pair]"
   ]
  },
  {
   "cell_type": "markdown",
   "metadata": {
    "collapsed": true
   },
   "source": [
    "### [user input] step2: pick a time to analyze pathways\n",
    "\n",
    "Please specify \n",
    "\n",
    "- the time point you want to investigate\n",
    "\n",
    "- the chemkin name of your initial species/reactant"
   ]
  },
  {
   "cell_type": "code",
   "execution_count": null,
   "metadata": {
    "collapsed": false
   },
   "outputs": [],
   "source": [
    "time_investigated = 0.000001 # hour\n",
    "reactant_name = 'ethane(1)'\n",
    "timepoint_index = (np.abs(firstColDict['Time_(sec)']-time_investigated*3600)).argmin()\n",
    "print \"Investiageted time point is {0} secs\".format(firstColDict['Time_(sec)'][timepoint_index])\n",
    "print \"At this moment, the reactant's mole fraction is {}.\".format(spc_mf_dict[reactant_name][timepoint_index])\n",
    "\n",
    "# create DiGraph for this moment\n",
    "G = nx.DiGraph()\n",
    "for pair in graph_edges_dict:\n",
    "    node1 = getSpeciesIdentifier(pair[0])\n",
    "    node2 = getSpeciesIdentifier(pair[1])\n",
    "    e_rawdata = graph_edges_dict[pair]\n",
    "    total_flux = 0\n",
    "    for rxn in e_rawdata:\n",
    "        total_flux += e_rawdata[rxn][timepoint_index]\n",
    "    if total_flux >= 0:\n",
    "        G.add_edge(node2, node1, {\"total_flux\":total_flux}) # in G, positive means production of node1\n",
    "    else: \n",
    "        G.add_edge(node1, node2, {\"total_flux\":-total_flux}) # in G, negative means consumption of node1      "
   ]
  },
  {
   "cell_type": "markdown",
   "metadata": {},
   "source": [
    "## [user input] Functionality 1: find paths between two species\n",
    "\n",
    "Pleae specify\n",
    "\n",
    "- source species\n",
    "\n",
    "- target species"
   ]
  },
  {
   "cell_type": "code",
   "execution_count": null,
   "metadata": {
    "collapsed": true
   },
   "outputs": [],
   "source": [
    "src_species = 'ethane(1)'\n",
    "tgt_species = 'C#C(25)'"
   ]
  },
  {
   "cell_type": "markdown",
   "metadata": {},
   "source": [
    "## output1: sort out all the paths and most significant one"
   ]
  },
  {
   "cell_type": "code",
   "execution_count": null,
   "metadata": {
    "collapsed": false
   },
   "outputs": [],
   "source": [
    "paths = list(nx.all_simple_paths(G, source=src_species, target=tgt_species, cutoff=5))"
   ]
  },
  {
   "cell_type": "code",
   "execution_count": null,
   "metadata": {
    "collapsed": false
   },
   "outputs": [],
   "source": [
    "path_fluxes = []\n",
    "print '================================================'\n",
    "print 'Path index \\t Flux \\t\\t Path steps'\n",
    "print ''\n",
    "\n",
    "for i, path in enumerate(paths):\n",
    "    \n",
    "    path_steps = len(path) - 1\n",
    "    fluxes = [G[path[step]][path[step+1]]['total_flux'] for step in range(path_steps) ]\n",
    "    path_fluxes.append(min(fluxes))\n",
    "    print 'Path #{0}: \\t {1:.6f} \\t {2}'.format(i, min(fluxes), path)\n",
    "sorted_path_fluxes = sorted(path_fluxes)\n",
    "\n",
    "print ''\n",
    "print '============================================'\n",
    "print '\\t Most Significant Path '\n",
    "print '============================================'\n",
    "print 'Path index \\t Flux'\n",
    "print 'Path #{0}: \\t {1:.6f} '.format(path_fluxes.index(sorted_path_fluxes[-1]), sorted_path_fluxes[-1])"
   ]
  },
  {
   "cell_type": "markdown",
   "metadata": {},
   "source": [
    "### [user input] output2: visualize the path of interest\n",
    "\n",
    "Please specify\n",
    "\n",
    "- the path index you want to visualize"
   ]
  },
  {
   "cell_type": "code",
   "execution_count": null,
   "metadata": {
    "collapsed": false
   },
   "outputs": [],
   "source": [
    "path_index_investigate = 0\n",
    "path = paths[path_index_investigate]\n",
    "path_steps = len(path) - 1\n",
    "print ''\n",
    "print '\\t Pathway Report '\n",
    "print '======================================'\n",
    "print 'The pathway you are intested in has {0} steps.'.format(len(path))\n",
    "for step in range(path_steps):\n",
    "    step_pair = (path[step], path[step+1])\n",
    "    h_abs_rxns = []\n",
    "    disp_rxns = []\n",
    "    \n",
    "    print \"\"\n",
    "    print \"Step{0} \\t\\t\\t\\t Flux\".format(step+1)\n",
    "    print '******************************************'\n",
    "    \n",
    "    print \"{1} --> {2} \\t\\t {3}\".\\\n",
    "    format(step+1, step_pair[0], step_pair[1], G[step_pair[0]][step_pair[1]]['total_flux'])\n",
    "    \n",
    "    print '******************************************'\n",
    "    if step_pair not in graph_edges_dict_simple:\n",
    "        step_pair = (step_pair[1], step_pair[0])\n",
    "    \n",
    "    print ''\n",
    "    for rxn in graph_edges_dict_simple[step_pair]:\n",
    "        if rxn.family == \"H_Abstraction\":\n",
    "            h_abs_rxns.append(rxn)\n",
    "        elif rxn.family == \"Disproportionation\":\n",
    "            disp_rxns.append(rxn)\n",
    "        else:\n",
    "            print \"Example reaction: rxn#{0}\".format(rxn.index)\n",
    "            print ''\n",
    "            print str(rxn)\n",
    "            display(rxn)\n",
    "    if len(h_abs_rxns) > 0: \n",
    "        \n",
    "        print \"Example H_Abstraction: rxn#{0} (1/{1} H_Abs): \".format(h_abs_rxns[0].index, len(h_abs_rxns)) \n",
    "        print ''\n",
    "        print str(h_abs_rxns[0])\n",
    "        display(h_abs_rxns[0])\n",
    "    if len(disp_rxns) > 0: \n",
    "        \n",
    "        print \"Example Disproportionation: rxn#{0} (1/{1} Disp): \".format(disp_rxns[0].index, len(disp_rxns)) \n",
    "        print ''\n",
    "        print str(disp_rxns[0])\n",
    "        display(disp_rxns[0])"
   ]
  },
  {
   "cell_type": "markdown",
   "metadata": {
    "collapsed": true
   },
   "source": [
    "## [user input] Functionality 2: find paths from a particular species\n",
    "\n",
    "Please specify\n",
    "\n",
    "- source species\n",
    "\n",
    "- depth of pathway you want search, e.g., depth = 2 means search pathways 2 steps down from source species\n",
    "\n",
    "- path_top_list, e.g., [0, 3] means 1st step of the pathway takes the most significant branch and 2nd step would be the third most siginificant branch"
   ]
  },
  {
   "cell_type": "code",
   "execution_count": null,
   "metadata": {
    "collapsed": true
   },
   "outputs": [],
   "source": [
    "source = \"ethane(1)\"\n",
    "depth = 2\n",
    "path_top_list = [0, 0]"
   ]
  },
  {
   "cell_type": "code",
   "execution_count": null,
   "metadata": {
    "collapsed": false,
    "scrolled": false
   },
   "outputs": [],
   "source": [
    "current_node = source\n",
    "\n",
    "print ''\n",
    "print '\\t Pathway Report '\n",
    "print '======================================'\n",
    "print 'The pathway you are intested in has {0} steps.'.format(depth)\n",
    "for step in range(depth):\n",
    "    print \"\\n\"    \n",
    "    nextNode_flux_list = [(next_node, G[current_node][next_node]['total_flux']) for next_node in G[current_node]]\n",
    "    sorted_nextNode_flux_list = sorted(nextNode_flux_list, key=lambda tup: -tup[1])\n",
    "    \n",
    "    # choose the top one as next node\n",
    "    tup = sorted_nextNode_flux_list[path_top_list[step]]\n",
    "    next_node = tup[0]\n",
    "    step_flux = tup[1]\n",
    "    \n",
    "    print \"\"\n",
    "    print \"Step{0} \\t\\t\\t\\t Flux\".format(step+1)\n",
    "    print '******************************************'\n",
    "    \n",
    "    print \"{0} --> {1} \\t\\t {2}\".\\\n",
    "    format(current_node, next_node, step_flux)\n",
    "    print '******************************************'\n",
    "    \n",
    "    step_pair = (current_node, next_node)\n",
    "    if step_pair not in graph_edges_dict_simple:\n",
    "        step_pair = (next_node, current_node)\n",
    "    \n",
    "    h_abs_rxns = []\n",
    "    disp_rxns = []\n",
    "    for rxn in graph_edges_dict_simple[step_pair]:\n",
    "        if rxn.family == \"H_Abstraction\":\n",
    "            h_abs_rxns.append(rxn)\n",
    "        elif rxn.family == \"Disproportionation\":\n",
    "            disp_rxns.append(rxn)\n",
    "        else:\n",
    "            print ''\n",
    "            print \"Example reaction: rxn#{0}\".format(rxn.index)\n",
    "            print ''\n",
    "            print \"{0}: flux = {1} \".format(str(rxn), graph_edges_dict_simple[step_pair][rxn][timepoint_index])\n",
    "            display(rxn)\n",
    "    if len(h_abs_rxns) > 0:\n",
    "        print ''\n",
    "        print \"Example H_Abstraction: rxn#{0}(1/{1} H_Abs)\".format(h_abs_rxns[0].index, len(h_abs_rxns))\n",
    "        print ''\n",
    "        print str(h_abs_rxns[0])\n",
    "        display(h_abs_rxns[0])\n",
    "    if len(disp_rxns) > 0: \n",
    "        print ''\n",
    "        print \"Example Disproportionation: rxn#{0}(1/{1} Disp)\".format(disp_rxns[0].index, len(disp_rxns))\n",
    "        print ''\n",
    "        print str(disp_rxns[0])\n",
    "        display(disp_rxns[0])\n",
    "        \n",
    "    \n",
    "    current_node = next_node"
   ]
  },
  {
   "cell_type": "markdown",
   "metadata": {},
   "source": [
    "### More detail for the H_Abstration and Disproportionation in last step of the pathway"
   ]
  },
  {
   "cell_type": "code",
   "execution_count": null,
   "metadata": {
    "collapsed": false,
    "scrolled": false
   },
   "outputs": [],
   "source": [
    "print ''\n",
    "print 'The step you see currently is between the two species {0}'.format(step_pair)\n",
    "print ''\n",
    "print 'Positive flux in below means positive production of 1st node of the pair.'\n",
    "print ''\n",
    "print 'This step have {0} H_Abstration and Disproportionation in total.'.format(len(h_abs_rxns + disp_rxns))\n",
    "\n",
    "flux_threshold = 1e-9\n",
    "\n",
    "print ''\n",
    "print 'TO avoid too much printout, the reactions shown below have fluxes above {0}.'.format(flux_threshold)\n",
    "\n",
    "total_flux = 0\n",
    "rxn_flux_tups = []\n",
    "for rxn in h_abs_rxns + disp_rxns:\n",
    "    flux = graph_edges_dict_simple[step_pair][rxn][timepoint_index]\n",
    "    \n",
    "    rxn_flux_tups.append((rxn, flux))\n",
    "\n",
    "rxn_flux_tups = sorted(rxn_flux_tups, key=lambda tup: tup[1], reverse=False)\n",
    "for tup in rxn_flux_tups:\n",
    "    rxn = tup[0]\n",
    "    flux = tup[1]\n",
    "    if flux > flux_threshold:\n",
    "        total_flux += flux\n",
    "        print ''\n",
    "        print \"**********************************************************************************\"\n",
    "        print \"rxn#{0}: {1}: flux = {2} \".format(rxn.index, str(rxn), flux) # \n",
    "        display(rxn) \n",
    "print \"***************************************\"\n",
    "print ''\n",
    "print \"TOTAL flux from h_abs and disp is {0}.\".format(total_flux)\n"
   ]
  },
  {
   "cell_type": "markdown",
   "metadata": {},
   "source": [
    "## [user input] Functionality 3: find paths towards a particular species\n",
    "\n",
    "Similar to functionality 2, please specify\n",
    "\n",
    "Please specify\n",
    "\n",
    "- target species\n",
    "\n",
    "- depth of pathway you want search, e.g., depth = 2 means search pathways 2 steps up beyond target species\n",
    "\n",
    "- path_top_list, e.g., [0, 3] means 1st step of the pathway takes the most significant branch and 2nd step would be the third most siginificant branch"
   ]
  },
  {
   "cell_type": "code",
   "execution_count": null,
   "metadata": {
    "collapsed": false
   },
   "outputs": [],
   "source": [
    "target = \"C#C(25)\"\n",
    "depth = 2\n",
    "path_top_list = [0, 0]"
   ]
  },
  {
   "cell_type": "code",
   "execution_count": null,
   "metadata": {
    "collapsed": false
   },
   "outputs": [],
   "source": [
    "current_node = target\n",
    "print ''\n",
    "print '\\t Pathway Report '\n",
    "print '======================================'\n",
    "print 'The pathway you are intested in has {0} steps.'.format(depth)\n",
    "print ''\n",
    "print \"total product flux for {0} is {1}.\".format(target, spc_total_rop_dict[target][1][timepoint_index])\n",
    "for step in range(depth):\n",
    "    print \"\\n\"\n",
    "    prev_nodes = []\n",
    "    for node1 in G:\n",
    "        if current_node in G[node1]:\n",
    "            prev_nodes.append(node1)\n",
    "    prevNode_flux_list = [(prev_node, G[prev_node][current_node]['total_flux']) for prev_node in prev_nodes]\n",
    "    sorted_prevNode_flux_list = sorted(prevNode_flux_list, key=lambda tup: -tup[1])\n",
    "    \n",
    "    # choose the top one as next node\n",
    "    tup = sorted_prevNode_flux_list[path_top_list[step]]\n",
    "    prev_node = tup[0]\n",
    "    step_flux = tup[1]\n",
    "    \n",
    "    \n",
    "    \n",
    "    print \"\"\n",
    "    print \"Step{0} \\t\\t\\t\\t Flux\".format(step+1)\n",
    "    print '******************************************'\n",
    "    \n",
    "    print \"{0} <-- {1}: \\t\\t {2}\".\\\n",
    "    format(current_node, prev_node, step_flux)\n",
    "    print '******************************************'\n",
    "    \n",
    "    step_pair = (prev_node, current_node)\n",
    "    if step_pair not in graph_edges_dict_simple:\n",
    "        step_pair = (current_node, prev_node)\n",
    "    \n",
    "    h_abs_rxns = []\n",
    "    disp_rxns = []\n",
    "    for rxn in graph_edges_dict_simple[step_pair]:\n",
    "        if rxn.family == \"H_Abstraction\":\n",
    "            h_abs_rxns.append(rxn)\n",
    "        elif rxn.family == \"Disproportionation\":\n",
    "            disp_rxns.append(rxn)\n",
    "        else:\n",
    "            \n",
    "            print ''\n",
    "            print \"Example reaction: rxn#{0}\".format(rxn.index)\n",
    "            print ''\n",
    "            print \"{0}: flux = {1} \".format(str(rxn), graph_edges_dict_simple[step_pair][rxn][timepoint_index])\n",
    "            display(rxn)\n",
    "            \n",
    "    if len(h_abs_rxns) > 0:\n",
    "        \n",
    "        print ''\n",
    "        print \"Example H_Abstraction: rxn#{0}(1/{1} H_Abs)\".format(h_abs_rxns[0].index, len(h_abs_rxns))\n",
    "        print ''\n",
    "        print str(h_abs_rxns[0])\n",
    "        display(h_abs_rxns[0])\n",
    "    if len(disp_rxns) > 0: \n",
    "        print ''\n",
    "        print \"Example Disproportionation: rxn#{0}(1/{1} Disp)\".format(disp_rxns[0].index, len(disp_rxns))\n",
    "        print ''\n",
    "        print str(disp_rxns[0])\n",
    "        display(disp_rxns[0])\n",
    "    \n",
    "    current_node = prev_node"
   ]
  },
  {
   "cell_type": "markdown",
   "metadata": {},
   "source": [
    "### More detail for the H_Abstration and Disproportionation in last step of the pathway"
   ]
  },
  {
   "cell_type": "code",
   "execution_count": null,
   "metadata": {
    "collapsed": false
   },
   "outputs": [],
   "source": [
    "print ''\n",
    "print 'The step you see currently is between the two species {0}'.format(step_pair)\n",
    "print ''\n",
    "print 'Positive flux in below means positive production of 1st node of the pair.'\n",
    "print ''\n",
    "print 'This step have {0} H_Abstration and Disproportionation in total.'.format(len(h_abs_rxns + disp_rxns))\n",
    "\n",
    "flux_threshold = 1e-9\n",
    "\n",
    "print ''\n",
    "print 'TO avoid too much printout, the reactions shown below have fluxes above {0}.'.format(flux_threshold)\n",
    "\n",
    "total_flux = 0\n",
    "rxn_flux_tups = []\n",
    "for rxn in h_abs_rxns + disp_rxns:\n",
    "    flux = graph_edges_dict_simple[step_pair][rxn][timepoint_index]\n",
    "    \n",
    "    rxn_flux_tups.append((rxn, flux))\n",
    "\n",
    "rxn_flux_tups = sorted(rxn_flux_tups, key=lambda tup: tup[1], reverse=False)\n",
    "for tup in rxn_flux_tups:\n",
    "    rxn = tup[0]\n",
    "    flux = tup[1]\n",
    "    if flux > flux_threshold:\n",
    "        total_flux += flux\n",
    "        print ''\n",
    "        print \"**********************************************************************************\"\n",
    "        print \"rxn#{0}: {1}: flux = {2} \".format(rxn.index, str(rxn), flux) # \n",
    "        display(rxn) \n",
    "print \"***************************************\"\n",
    "print ''\n",
    "print \"TOTAL flux from h_abs and disp is {0}.\".format(total_flux)"
   ]
  },
  {
   "cell_type": "code",
   "execution_count": null,
   "metadata": {
    "collapsed": true
   },
   "outputs": [],
   "source": []
  }
 ],
 "metadata": {
  "kernelspec": {
   "display_name": "Python [default]",
   "language": "python",
   "name": "python2"
  },
  "language_info": {
   "codemirror_mode": {
    "name": "ipython",
    "version": 2
   },
   "file_extension": ".py",
   "mimetype": "text/x-python",
   "name": "python",
   "nbconvert_exporter": "python",
   "pygments_lexer": "ipython2",
   "version": "2.7.12"
  }
 },
 "nbformat": 4,
 "nbformat_minor": 0
}
